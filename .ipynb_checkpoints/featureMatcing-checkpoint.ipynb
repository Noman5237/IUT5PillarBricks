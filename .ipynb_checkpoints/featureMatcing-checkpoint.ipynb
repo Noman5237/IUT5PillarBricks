{
 "cells": [
  {
   "cell_type": "code",
   "execution_count": 1,
   "metadata": {},
   "outputs": [],
   "source": [
    "import numpy as np\n",
    "import cv2\n",
    "from matplotlib import pyplot as plt"
   ]
  },
  {
   "cell_type": "code",
   "execution_count": 14,
   "metadata": {},
   "outputs": [],
   "source": [
    "img1 = cv2.imread('sample2.jpg',0)          # queryImage\n",
    "img2 = cv2.imread('editedbrick.jpg',0) # trainImage"
   ]
  },
  {
   "cell_type": "code",
   "execution_count": 15,
   "metadata": {},
   "outputs": [],
   "source": [
    "sift = cv2.xfeatures2d.SIFT_create()"
   ]
  },
  {
   "cell_type": "code",
   "execution_count": 16,
   "metadata": {},
   "outputs": [],
   "source": [
    "kp1, des1 = sift.detectAndCompute(img1,None)\n",
    "kp2, des2 = sift.detectAndCompute(img2,None)"
   ]
  },
  {
   "cell_type": "code",
   "execution_count": 21,
   "metadata": {},
   "outputs": [],
   "source": [
    "bf = cv2.BFMatcher()\n",
    "matches = bf.knnMatch(des1,des2, k=2)"
   ]
  },
  {
   "cell_type": "code",
   "execution_count": 22,
   "metadata": {},
   "outputs": [
    {
     "data": {
      "text/plain": [
       "21"
      ]
     },
     "execution_count": 22,
     "metadata": {},
     "output_type": "execute_result"
    }
   ],
   "source": [
    "len(matches)"
   ]
  },
  {
   "cell_type": "code",
   "execution_count": 30,
   "metadata": {},
   "outputs": [],
   "source": [
    "good = []\n",
    "for m,n in matches:\n",
    "    if m.distance < 5*n.distance:\n",
    "        good.append([m])"
   ]
  },
  {
   "cell_type": "code",
   "execution_count": 32,
   "metadata": {},
   "outputs": [
    {
     "data": {
      "text/plain": [
       "[[<DMatch 000001D058758730>],\n",
       " [<DMatch 000001D058758B30>],\n",
       " [<DMatch 000001D058758B90>],\n",
       " [<DMatch 000001D058758B70>],\n",
       " [<DMatch 000001D058758890>],\n",
       " [<DMatch 000001D058758BF0>],\n",
       " [<DMatch 000001D058758D30>],\n",
       " [<DMatch 000001D058758D70>],\n",
       " [<DMatch 000001D058758DB0>],\n",
       " [<DMatch 000001D058758DF0>],\n",
       " [<DMatch 000001D058758E30>],\n",
       " [<DMatch 000001D058758E70>],\n",
       " [<DMatch 000001D058758EB0>],\n",
       " [<DMatch 000001D058758EF0>],\n",
       " [<DMatch 000001D058758F30>],\n",
       " [<DMatch 000001D058758F70>],\n",
       " [<DMatch 000001D058758FB0>],\n",
       " [<DMatch 000001D05880B030>],\n",
       " [<DMatch 000001D05880B070>],\n",
       " [<DMatch 000001D05880B0B0>],\n",
       " [<DMatch 000001D05880B0F0>]]"
      ]
     },
     "execution_count": 32,
     "metadata": {},
     "output_type": "execute_result"
    }
   ],
   "source": [
    "good"
   ]
  },
  {
   "cell_type": "code",
   "execution_count": 25,
   "metadata": {},
   "outputs": [
    {
     "data": {
      "text/plain": [
       "True"
      ]
     },
     "execution_count": 25,
     "metadata": {},
     "output_type": "execute_result"
    }
   ],
   "source": [
    "img3 = cv2.drawMatchesKnn(img1,kp1,img2,kp2,good, None, flags=2)\n",
    "cv2.imwrite(\"fm2.jpg\", img3)"
   ]
  },
  {
   "cell_type": "code",
   "execution_count": null,
   "metadata": {},
   "outputs": [],
   "source": []
  }
 ],
 "metadata": {
  "kernelspec": {
   "display_name": "Python 3",
   "language": "python",
   "name": "python3"
  },
  "language_info": {
   "codemirror_mode": {
    "name": "ipython",
    "version": 3
   },
   "file_extension": ".py",
   "mimetype": "text/x-python",
   "name": "python",
   "nbconvert_exporter": "python",
   "pygments_lexer": "ipython3",
   "version": "3.7.4"
  }
 },
 "nbformat": 4,
 "nbformat_minor": 4
}
